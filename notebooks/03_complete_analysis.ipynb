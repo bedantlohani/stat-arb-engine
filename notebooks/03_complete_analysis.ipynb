{
 "cells": [
  {
   "cell_type": "code",
   "execution_count": 1,
   "metadata": {},
   "outputs": [
    {
     "name": "stdout",
     "output_type": "stream",
     "text": [
      "Intel MKL WARNING: Support of Intel(R) Streaming SIMD Extensions 4.2 (Intel(R) SSE4.2) enabled only processors has been deprecated. Intel oneAPI Math Kernel Library 2025.0 will require Intel(R) Advanced Vector Extensions (Intel(R) AVX) instructions.\n",
      "Intel MKL WARNING: Support of Intel(R) Streaming SIMD Extensions 4.2 (Intel(R) SSE4.2) enabled only processors has been deprecated. Intel oneAPI Math Kernel Library 2025.0 will require Intel(R) Advanced Vector Extensions (Intel(R) AVX) instructions.\n"
     ]
    }
   ],
   "source": [
    "\n",
    "import pandas as pd, numpy as np\n",
    "from itertools import product\n",
    "import matplotlib.pyplot as plt\n",
    "import json\n",
    "\n",
    "# Load price data and cointegrated pairs\n",
    "prices = pd.read_csv(\"../data/processed/aligned_prices2.csv\",\n",
    "                     index_col=\"Date\", parse_dates=True)\n",
    "with open(\"../data/processed/cointegrated_pairs.json\") as f:\n",
    "    coint_pairs = pd.DataFrame(json.load(f))  # DataFrame with columns A, B, beta\n"
   ]
  },
  {
   "cell_type": "code",
   "execution_count": 2,
   "metadata": {},
   "outputs": [],
   "source": [
    "def backtest_pair(prices, A, B, beta, entry_z, exit_z, cost_rate):\n",
    "    \"\"\"\n",
    "    Simulate pair trading on stocks A and B. Positions:\n",
    "      +1 = Long spread (long A, short B); -1 = Short spread (short A, long B); 0 = flat.\n",
    "    Trades are entered when |Z| >= entry_z and exited when |Z| < exit_z.\n",
    "    \"\"\"\n",
    "    # Compute spread and its Z-score\n",
    "    spread = prices[A] - beta * prices[B]\n",
    "    mu, sigma = spread.mean(), spread.std()\n",
    "    z = (spread - mu) / sigma\n",
    "    dates = spread.index\n",
    "    n = len(dates)\n",
    "    \n",
    "    # Generate positions (0=flat, +1=long spread, -1=short spread)\n",
    "    pos = np.zeros(n, int)\n",
    "    for t in range(1, n):\n",
    "        if pos[t-1] == 0:\n",
    "            if z.iloc[t] >  entry_z:\n",
    "                pos[t] = -1   # enter short spread\n",
    "            elif z.iloc[t] < -entry_z:\n",
    "                pos[t] = +1   # enter long spread\n",
    "        else:\n",
    "            # exit when Z returns within [-exit_z, +exit_z]\n",
    "            pos[t] = 0 if abs(z.iloc[t]) < exit_z else pos[t-1]\n",
    "    \n",
    "    # Compute per-unit P&L and costs\n",
    "    spread_diff = spread.diff().fillna(0).values\n",
    "    pnl = pos[:-1] * spread_diff[1:]  # pnl on day t = position*(spread(t)-spread(t-1))\n",
    "    trades = np.where(pos[1:] != pos[:-1])[0] + 1  # indices of entries/exits\n",
    "    costs = np.zeros(n)\n",
    "    for t in trades:\n",
    "        # cost = cost_rate * (value of both legs)\n",
    "        costs[t] = cost_rate * (prices[A].iloc[t] + beta * prices[B].iloc[t])\n",
    "    pnl_net = pnl - costs[1:]  # subtract cost on trade days\n",
    "    cum_pnl = np.concatenate([[0], np.cumsum(pnl_net)])  # cumulative per-unit pnl\n",
    "    \n",
    "    # Return detailed time series DataFrame\n",
    "    return pd.DataFrame({\n",
    "        \"Spread\": spread.values,\n",
    "        \"Z\":      z.values,\n",
    "        \"Position\": pos,\n",
    "        \"PnL_net\": np.concatenate([[0], pnl_net]),  # include 0 at start\n",
    "        \"CumPnL\":  cum_pnl,\n",
    "        \"Cost\":    costs\n",
    "    }, index=dates)\n"
   ]
  },
  {
   "cell_type": "code",
   "execution_count": 3,
   "metadata": {},
   "outputs": [
    {
     "data": {
      "text/html": [
       "<div>\n",
       "<style scoped>\n",
       "    .dataframe tbody tr th:only-of-type {\n",
       "        vertical-align: middle;\n",
       "    }\n",
       "\n",
       "    .dataframe tbody tr th {\n",
       "        vertical-align: top;\n",
       "    }\n",
       "\n",
       "    .dataframe thead th {\n",
       "        text-align: right;\n",
       "    }\n",
       "</style>\n",
       "<table border=\"1\" class=\"dataframe\">\n",
       "  <thead>\n",
       "    <tr style=\"text-align: right;\">\n",
       "      <th>exit_z</th>\n",
       "      <th>0.5</th>\n",
       "      <th>1.0</th>\n",
       "      <th>1.5</th>\n",
       "    </tr>\n",
       "    <tr>\n",
       "      <th>entry_z</th>\n",
       "      <th></th>\n",
       "      <th></th>\n",
       "      <th></th>\n",
       "    </tr>\n",
       "  </thead>\n",
       "  <tbody>\n",
       "    <tr>\n",
       "      <th>1.5</th>\n",
       "      <td>113.666968</td>\n",
       "      <td>93.528357</td>\n",
       "      <td>66.680534</td>\n",
       "    </tr>\n",
       "    <tr>\n",
       "      <th>2.0</th>\n",
       "      <td>68.432071</td>\n",
       "      <td>60.681824</td>\n",
       "      <td>41.148715</td>\n",
       "    </tr>\n",
       "    <tr>\n",
       "      <th>2.5</th>\n",
       "      <td>46.817212</td>\n",
       "      <td>42.801781</td>\n",
       "      <td>29.545178</td>\n",
       "    </tr>\n",
       "  </tbody>\n",
       "</table>\n",
       "</div>"
      ],
      "text/plain": [
       "exit_z          0.5        1.0        1.5\n",
       "entry_z                                  \n",
       "1.5      113.666968  93.528357  66.680534\n",
       "2.0       68.432071  60.681824  41.148715\n",
       "2.5       46.817212  42.801781  29.545178"
      ]
     },
     "metadata": {},
     "output_type": "display_data"
    },
    {
     "data": {
      "text/html": [
       "<div>\n",
       "<style scoped>\n",
       "    .dataframe tbody tr th:only-of-type {\n",
       "        vertical-align: middle;\n",
       "    }\n",
       "\n",
       "    .dataframe tbody tr th {\n",
       "        vertical-align: top;\n",
       "    }\n",
       "\n",
       "    .dataframe thead th {\n",
       "        text-align: right;\n",
       "    }\n",
       "</style>\n",
       "<table border=\"1\" class=\"dataframe\">\n",
       "  <thead>\n",
       "    <tr style=\"text-align: right;\">\n",
       "      <th>exit_z</th>\n",
       "      <th>0.5</th>\n",
       "      <th>1.0</th>\n",
       "      <th>1.5</th>\n",
       "    </tr>\n",
       "    <tr>\n",
       "      <th>entry_z</th>\n",
       "      <th></th>\n",
       "      <th></th>\n",
       "      <th></th>\n",
       "    </tr>\n",
       "  </thead>\n",
       "  <tbody>\n",
       "    <tr>\n",
       "      <th>1.5</th>\n",
       "      <td>2.990993</td>\n",
       "      <td>3.099826</td>\n",
       "      <td>2.741895</td>\n",
       "    </tr>\n",
       "    <tr>\n",
       "      <th>2.0</th>\n",
       "      <td>2.148399</td>\n",
       "      <td>2.357619</td>\n",
       "      <td>2.106834</td>\n",
       "    </tr>\n",
       "    <tr>\n",
       "      <th>2.5</th>\n",
       "      <td>1.622916</td>\n",
       "      <td>1.889257</td>\n",
       "      <td>1.801055</td>\n",
       "    </tr>\n",
       "  </tbody>\n",
       "</table>\n",
       "</div>"
      ],
      "text/plain": [
       "exit_z        0.5       1.0       1.5\n",
       "entry_z                              \n",
       "1.5      2.990993  3.099826  2.741895\n",
       "2.0      2.148399  2.357619  2.106834\n",
       "2.5      1.622916  1.889257  1.801055"
      ]
     },
     "metadata": {},
     "output_type": "display_data"
    }
   ],
   "source": [
    "# Parameter grid\n",
    "entry_grid = [1.5, 2.0, 2.5]\n",
    "exit_grid  = [0.5, 1.0, 1.5]\n",
    "cost_rate  = 0.0005   # 5 bps per leg\n",
    "capital    = 100_000\n",
    "per_pair_cap = capital / len(coint_pairs)  # capital allocated to each pair\n",
    "\n",
    "results = []\n",
    "for entry_z, exit_z in product(entry_grid, exit_grid):\n",
    "    portfolio_pnl = np.zeros(len(prices))\n",
    "    total_trades  = 0\n",
    "\n",
    "    for _, pair in coint_pairs.iterrows():\n",
    "        A, B, beta = pair.A, pair.B, pair.beta\n",
    "        bt = backtest_pair(prices, A, B, beta, entry_z, exit_z, cost_rate)\n",
    "        # Scale PnL by allocated capital: 1 spread-unit ≈ $base_val\n",
    "        base_val = prices[A].iloc[0] + beta * prices[B].iloc[0]\n",
    "        units = per_pair_cap / base_val\n",
    "        portfolio_pnl += bt[\"PnL_net\"].values * units\n",
    "        # count number of trades (entries+exits)\n",
    "        pos = bt[\"Position\"].values\n",
    "        trades_count = np.sum(pos[1:] != pos[:-1])\n",
    "        total_trades += trades_count\n",
    "\n",
    "    daily_ret = portfolio_pnl / capital\n",
    "    total_ret = daily_ret.sum()\n",
    "    sharpe    = daily_ret.mean() / (daily_ret.std() + 1e-9) * np.sqrt(252)\n",
    "    results.append({\n",
    "        \"entry_z\": entry_z,\n",
    "        \"exit_z\":  exit_z,\n",
    "        \"trades\":  total_trades,\n",
    "        \"return_%\": total_ret * 100,\n",
    "        \"sharpe\":  sharpe\n",
    "    })\n",
    "\n",
    "res_df = pd.DataFrame(results).set_index([\"entry_z\",\"exit_z\"])\n",
    "display(res_df[\"return_%\"].unstack(level=\"exit_z\"))\n",
    "display(res_df[\"sharpe\"].unstack(level=\"exit_z\"))\n"
   ]
  },
  {
   "cell_type": "code",
   "execution_count": 4,
   "metadata": {},
   "outputs": [
    {
     "data": {
      "image/png": "[encoded data removed]",
      "text/plain": [
       "<Figure size 600x400 with 2 Axes>"
      ]
     },
     "metadata": {},
     "output_type": "display_data"
    },
    {
     "data": {
      "image/png": "[encoded data removed]",
      "text/plain": [
       "<Figure size 600x400 with 2 Axes>"
      ]
     },
     "metadata": {},
     "output_type": "display_data"
    }
   ],
   "source": [
    "# Pivot results for plotting\n",
    "ret_matrix    = res_df[\"return_%\"].unstack()\n",
    "sharpe_matrix = res_df[\"sharpe\"].unstack()\n",
    "\n",
    "plt.figure(figsize=(6,4))\n",
    "plt.imshow(ret_matrix, aspect='auto', origin='lower')\n",
    "plt.colorbar(label=\"Return %\")\n",
    "plt.xticks(range(len(ret_matrix.columns)), ret_matrix.columns)\n",
    "plt.yticks(range(len(ret_matrix.index)), ret_matrix.index)\n",
    "plt.xlabel(\"Exit Z threshold\"); plt.ylabel(\"Entry Z threshold\")\n",
    "plt.title(\"Portfolio Return % across thresholds\")\n",
    "plt.show()\n",
    "\n",
    "plt.figure(figsize=(6,4))\n",
    "plt.imshow(sharpe_matrix, aspect='auto', origin='lower')\n",
    "plt.colorbar(label=\"Sharpe Ratio\")\n",
    "plt.xticks(range(len(sharpe_matrix.columns)), sharpe_matrix.columns)\n",
    "plt.yticks(range(len(sharpe_matrix.index)), sharpe_matrix.index)\n",
    "plt.xlabel(\"Exit Z threshold\"); plt.ylabel(\"Entry Z threshold\")\n",
    "plt.title(\"Portfolio Sharpe across thresholds\")\n",
    "plt.show()\n"
   ]
  },
  {
   "cell_type": "code",
   "execution_count": 5,
   "metadata": {},
   "outputs": [
    {
     "name": "stdout",
     "output_type": "stream",
     "text": [
      "Total Return: 113.67%\n",
      "Annualized Sharpe: 2.99\n"
     ]
    },
    {
     "data": {
      "image/png": "[encoded data removed]",
      "text/plain": [
       "<Figure size 800x400 with 1 Axes>"
      ]
     },
     "metadata": {},
     "output_type": "display_data"
    }
   ],
   "source": [
    "# Re-run backtest with selected thresholds\n",
    "entry_z, exit_z = 1.5, 0.5\n",
    "capital = 100_000\n",
    "per_pair_cap = capital / len(coint_pairs)\n",
    "\n",
    "portfolio_pnl = np.zeros(len(prices))\n",
    "for _, pair in coint_pairs.iterrows():\n",
    "    A, B, beta = pair.A, pair.B, pair.beta\n",
    "    bt = backtest_pair(prices, A, B, beta, entry_z, exit_z, cost_rate)\n",
    "    base_val = prices[A].iloc[0] + beta * prices[B].iloc[0]\n",
    "    units = per_pair_cap / base_val\n",
    "    portfolio_pnl += bt[\"PnL_net\"].values * units\n",
    "\n",
    "cum_return = np.cumsum(portfolio_pnl) / capital\n",
    "# Annualized Sharpe and total return\n",
    "daily_ret = portfolio_pnl / capital\n",
    "sharpe = daily_ret.mean() / (daily_ret.std() + 1e-9) * np.sqrt(252)\n",
    "total_return = cum_return[-1] * 100\n",
    "print(f\"Total Return: {total_return:.2f}%\")\n",
    "print(f\"Annualized Sharpe: {sharpe:.2f}\")\n",
    "\n",
    "# Plot cumulative return (equity curve)\n",
    "plt.figure(figsize=(8,4))\n",
    "plt.plot(prices.index, cum_return, label=\"Portfolio Cumulative Return\")\n",
    "plt.axhline(0, color='k', ls='--')\n",
    "plt.xlabel(\"Date\"); plt.ylabel(\"Cumulative Return\")\n",
    "plt.title(\"Portfolio Equity Curve\")\n",
    "plt.legend()\n",
    "plt.tight_layout()\n",
    "plt.show()\n"
   ]
  },
  {
   "cell_type": "markdown",
   "metadata": {},
   "source": [
    "We extract each individual trade (entry and exit) to analyze profitability, direction, and holding period. This produces a “trade blotter”. We reuse the backtest_pair data to find when positions go from flat to ±1 (entry) and back to 0 (exit)."
   ]
  },
  {
   "cell_type": "code",
   "execution_count": 6,
   "metadata": {},
   "outputs": [
    {
     "data": {
      "text/html": [
       "<div>\n",
       "<style scoped>\n",
       "    .dataframe tbody tr th:only-of-type {\n",
       "        vertical-align: middle;\n",
       "    }\n",
       "\n",
       "    .dataframe tbody tr th {\n",
       "        vertical-align: top;\n",
       "    }\n",
       "\n",
       "    .dataframe thead th {\n",
       "        text-align: right;\n",
       "    }\n",
       "</style>\n",
       "<table border=\"1\" class=\"dataframe\">\n",
       "  <thead>\n",
       "    <tr style=\"text-align: right;\">\n",
       "      <th></th>\n",
       "      <th>Pair</th>\n",
       "      <th>EntryDate</th>\n",
       "      <th>ExitDate</th>\n",
       "      <th>Direction</th>\n",
       "      <th>PnL($)</th>\n",
       "      <th>Return(%)</th>\n",
       "      <th>DaysHeld</th>\n",
       "    </tr>\n",
       "  </thead>\n",
       "  <tbody>\n",
       "    <tr>\n",
       "      <th>0</th>\n",
       "      <td>ATO-KMI</td>\n",
       "      <td>2022-01-20</td>\n",
       "      <td>2022-02-25</td>\n",
       "      <td>LongSpread</td>\n",
       "      <td>64.374063</td>\n",
       "      <td>455.028646</td>\n",
       "      <td>36</td>\n",
       "    </tr>\n",
       "    <tr>\n",
       "      <th>1</th>\n",
       "      <td>ATO-KMI</td>\n",
       "      <td>2022-05-18</td>\n",
       "      <td>2022-05-24</td>\n",
       "      <td>LongSpread</td>\n",
       "      <td>63.069875</td>\n",
       "      <td>488.219736</td>\n",
       "      <td>6</td>\n",
       "    </tr>\n",
       "    <tr>\n",
       "      <th>2</th>\n",
       "      <td>ATO-KMI</td>\n",
       "      <td>2022-06-13</td>\n",
       "      <td>2022-06-23</td>\n",
       "      <td>LongSpread</td>\n",
       "      <td>72.190412</td>\n",
       "      <td>533.411205</td>\n",
       "      <td>10</td>\n",
       "    </tr>\n",
       "    <tr>\n",
       "      <th>3</th>\n",
       "      <td>ATO-KMI</td>\n",
       "      <td>2022-09-30</td>\n",
       "      <td>2022-11-18</td>\n",
       "      <td>LongSpread</td>\n",
       "      <td>89.092811</td>\n",
       "      <td>624.531362</td>\n",
       "      <td>49</td>\n",
       "    </tr>\n",
       "    <tr>\n",
       "      <th>4</th>\n",
       "      <td>ATO-KMI</td>\n",
       "      <td>2023-05-04</td>\n",
       "      <td>2023-08-14</td>\n",
       "      <td>ShortSpread</td>\n",
       "      <td>60.720095</td>\n",
       "      <td>481.378426</td>\n",
       "      <td>102</td>\n",
       "    </tr>\n",
       "  </tbody>\n",
       "</table>\n",
       "</div>"
      ],
      "text/plain": [
       "      Pair  EntryDate   ExitDate    Direction     PnL($)   Return(%)  DaysHeld\n",
       "0  ATO-KMI 2022-01-20 2022-02-25   LongSpread  64.374063  455.028646        36\n",
       "1  ATO-KMI 2022-05-18 2022-05-24   LongSpread  63.069875  488.219736         6\n",
       "2  ATO-KMI 2022-06-13 2022-06-23   LongSpread  72.190412  533.411205        10\n",
       "3  ATO-KMI 2022-09-30 2022-11-18   LongSpread  89.092811  624.531362        49\n",
       "4  ATO-KMI 2023-05-04 2023-08-14  ShortSpread  60.720095  481.378426       102"
      ]
     },
     "execution_count": 6,
     "metadata": {},
     "output_type": "execute_result"
    }
   ],
   "source": [
    "def extract_trades(bt, A, B, beta, cap_per_pair):\n",
    "    trades = []\n",
    "    pos = bt[\"Position\"].values\n",
    "    dates = bt.index\n",
    "    entry_idx, entry_pos = None, None\n",
    "    \n",
    "    for t in range(1, len(pos)):\n",
    "        # Entry: flat -> ±1\n",
    "        if pos[t-1] == 0 and pos[t] != 0:\n",
    "            entry_idx = t\n",
    "            entry_pos = pos[t]\n",
    "            entry_dt = dates[t]\n",
    "        # Exit: ±1 -> flat\n",
    "        elif pos[t-1] != 0 and pos[t] == 0 and entry_idx is not None:\n",
    "            exit_idx = t\n",
    "            exit_dt  = dates[t]\n",
    "            # Profit in spread units for this round-trip\n",
    "            pnl_rt = bt[\"CumPnL\"].iloc[exit_idx] - bt[\"CumPnL\"].iloc[entry_idx]\n",
    "            base_val = prices[A].iloc[entry_idx] + beta * prices[B].iloc[entry_idx]\n",
    "            units = cap_per_pair / base_val\n",
    "            pnl_dollars = pnl_rt * units\n",
    "            trades.append({\n",
    "                \"Pair\":        f\"{A}-{B}\",\n",
    "                \"EntryDate\":   entry_dt,\n",
    "                \"ExitDate\":    exit_dt,\n",
    "                \"Direction\":   \"LongSpread\" if entry_pos==+1 else \"ShortSpread\",\n",
    "                \"PnL($)\":      pnl_dollars,\n",
    "                \"Return(%)\":   pnl_rt * 100,  # percent of spread volatility\n",
    "                \"DaysHeld\":    (exit_dt - entry_dt).days\n",
    "            })\n",
    "            entry_idx = None  # reset for next trade\n",
    "    return trades\n",
    "\n",
    "# Build trade list and equity contributions\n",
    "trades_list = []\n",
    "equity = pd.Series(0.0, index=prices.index)\n",
    "for _, pair in coint_pairs.iterrows():\n",
    "    A, B, beta = pair.A, pair.B, pair.beta\n",
    "    bt = backtest_pair(prices, A, B, beta, entry_z, exit_z, cost_rate)\n",
    "    trades_list += extract_trades(bt, A, B, beta, per_pair_cap)\n",
    "    # Add this pair's contribution to portfolio equity curve\n",
    "    base_val = prices[A] + beta * prices[B]\n",
    "    scale = per_pair_cap / base_val.iloc[0]\n",
    "    equity = equity.add(bt[\"PnL_net\"] * scale, fill_value=0.0)\n",
    "\n",
    "trades_df = pd.DataFrame(trades_list)\n",
    "trades_df.head(5)\n"
   ]
  },
  {
   "cell_type": "code",
   "execution_count": 7,
   "metadata": {},
   "outputs": [
    {
     "name": "stdout",
     "output_type": "stream",
     "text": [
      "Win Rate: 96.0%\n",
      "Average PnL per trade: $-36.55\n",
      "Average holding period: 42.5 days\n"
     ]
    }
   ],
   "source": [
    "win_rate = (trades_df[\"PnL($)\"] > 0).mean() * 100\n",
    "avg_pnl = trades_df[\"PnL($)\"].mean()\n",
    "avg_days = trades_df[\"DaysHeld\"].mean()\n",
    "print(f\"Win Rate: {win_rate:.1f}%\")\n",
    "print(f\"Average PnL per trade: ${avg_pnl:.2f}\")\n",
    "print(f\"Average holding period: {avg_days:.1f} days\")\n"
   ]
  },
  {
   "cell_type": "code",
   "execution_count": 8,
   "metadata": {},
   "outputs": [
    {
     "data": {
      "text/plain": [
       "Total Return (%)     113.67\n",
       "Annualized Sharpe      2.99\n",
       "CAGR (%)              29.37\n",
       "Win Rate (%)          96.02\n",
       "Max Drawdown (%)      -6.57\n",
       "dtype: float64"
      ]
     },
     "execution_count": 8,
     "metadata": {},
     "output_type": "execute_result"
    }
   ],
   "source": [
    "# Calculate returns and metrics\n",
    "daily_ret = equity / capital\n",
    "total_return = daily_ret.sum()\n",
    "years = (prices.index[-1] - prices.index[0]).days / 365.25\n",
    "sharpe = daily_ret.mean() / (daily_ret.std() + 1e-9) * np.sqrt(252)\n",
    "cagr = (1 + total_return) ** (1/years) - 1\n",
    "# Max drawdown\n",
    "cum_eq = (equity.cumsum() / capital).values\n",
    "running_max = np.maximum.accumulate(cum_eq)\n",
    "drawdowns = cum_eq - running_max\n",
    "max_dd = drawdowns.min()\n",
    "\n",
    "metrics = {\n",
    "    \"Total Return (%)\": total_return * 100,\n",
    "    \"Annualized Sharpe\": sharpe,\n",
    "    \"CAGR (%)\":        cagr * 100,\n",
    "    \"Win Rate (%)\":    win_rate,\n",
    "    \"Max Drawdown (%)\": max_dd * 100\n",
    "}\n",
    "pd.Series(metrics).round(2)\n"
   ]
  },
  {
   "cell_type": "code",
   "execution_count": 11,
   "metadata": {},
   "outputs": [
    {
     "name": "stdout",
     "output_type": "stream",
     "text": [
      " Saved strategy_data2.pkl for 2022-01-19 through 2024-12-31\n"
     ]
    }
   ],
   "source": [
    "import pickle, os\n",
    "\n",
    "# infer the period from strategy returns\n",
    "start = daily_ret.index.min().strftime(\"%Y-%m-%d\")\n",
    "end   = daily_ret.index.max().strftime(\"%Y-%m-%d\")\n",
    "\n",
    "strategy_data = {\n",
    "    \"daily_ret\": daily_ret,       # pandas Series of strategy daily returns\n",
    "    \"cum_return\": cum_return,     # numpy array or pandas Series of cumulative returns\n",
    "    \"start\": start,               # \"YYYY-MM-DD\"\n",
    "    \"end\":   end,                 # \"YYYY-MM-DD\"\n",
    "}\n",
    "\n",
    "os.makedirs(\"../data/processed/\", exist_ok=True)\n",
    "with open(\"../data/processed/strategy_data2.pkl\", \"wb\") as f:\n",
    "    pickle.dump(strategy_data, f)\n",
    "\n",
    "print(f\" Saved strategy_data2.pkl for {start} through {end}\")\n"
   ]
  }
 ],
 "metadata": {
  "kernelspec": {
   "display_name": "DataWrangling",
   "language": "python",
   "name": "python3"
  },
  "language_info": {
   "codemirror_mode": {
    "name": "ipython",
    "version": 3
   },
   "file_extension": ".py",
   "mimetype": "text/x-python",
   "name": "python",
   "nbconvert_exporter": "python",
   "pygments_lexer": "ipython3",
   "version": "3.10.13"
  }
 },
 "nbformat": 4,
 "nbformat_minor": 2
}
